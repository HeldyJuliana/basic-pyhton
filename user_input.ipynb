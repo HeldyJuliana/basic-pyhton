{
 "cells": [
  {
   "cell_type": "code",
   "execution_count": 1,
   "metadata": {},
   "outputs": [
    {
     "name": "stdout",
     "output_type": "stream",
     "text": [
      "nama aku: deedee\n",
      "Hi guys, namaku deedee\n"
     ]
    }
   ],
   "source": [
    "nama=input(\"nama aku: \")\n",
    "print(\"Hi guys, namaku \" + nama)"
   ]
  },
  {
   "cell_type": "code",
   "execution_count": 5,
   "metadata": {},
   "outputs": [
    {
     "name": "stdout",
     "output_type": "stream",
     "text": [
      "Hello\n"
     ]
    }
   ],
   "source": [
    "variabel_saya = \"Hello World!\"\n",
    "print(variabel_saya[0:5])"
   ]
  },
  {
   "cell_type": "code",
   "execution_count": 6,
   "metadata": {},
   "outputs": [
    {
     "name": "stdout",
     "output_type": "stream",
     "text": [
      "Hell\n"
     ]
    }
   ],
   "source": [
    "print(variabel_saya[0:4])"
   ]
  },
  {
   "cell_type": "code",
   "execution_count": 7,
   "metadata": {},
   "outputs": [
    {
     "name": "stdout",
     "output_type": "stream",
     "text": [
      " \n"
     ]
    }
   ],
   "source": [
    "print(variabel_saya[5])"
   ]
  },
  {
   "cell_type": "code",
   "execution_count": 8,
   "metadata": {},
   "outputs": [
    {
     "name": "stdout",
     "output_type": "stream",
     "text": [
      "o\n"
     ]
    }
   ],
   "source": [
    "print(variabel_saya[4])"
   ]
  },
  {
   "cell_type": "code",
   "execution_count": 9,
   "metadata": {},
   "outputs": [
    {
     "data": {
      "text/plain": [
       "'\\nH E L L O   W O R L D\\n0 1 2 3 4 5 6 7 8 9 10\\n'"
      ]
     },
     "execution_count": 9,
     "metadata": {},
     "output_type": "execute_result"
    }
   ],
   "source": [
    "'''\n",
    "HELLO WORLD! uraian:\n",
    "\n",
    "H E L L O   W O R L D  !\n",
    "0 1 2 3 4 5 6 7 8 9 10 11\n",
    "'''"
   ]
  },
  {
   "cell_type": "code",
   "execution_count": 10,
   "metadata": {},
   "outputs": [
    {
     "name": "stdout",
     "output_type": "stream",
     "text": [
      "!\n"
     ]
    }
   ],
   "source": [
    "print(variabel_saya[-1])"
   ]
  },
  {
   "cell_type": "code",
   "execution_count": 11,
   "metadata": {},
   "outputs": [
    {
     "data": {
      "text/plain": [
       "'\\nH    E   L   L  O     W  O  R  L  D !\\n-12 -11 -10 -9 -8 -7 -6 -5 -4 -3 -2 -1\\n'"
      ]
     },
     "execution_count": 11,
     "metadata": {},
     "output_type": "execute_result"
    }
   ],
   "source": [
    "'''\n",
    "H    E   L   L  O     W  O  R  L  D !\n",
    "-12 -11 -10 -9 -8 -7 -6 -5 -4 -3 -2 -1\n",
    "'''"
   ]
  },
  {
   "cell_type": "code",
   "execution_count": 12,
   "metadata": {},
   "outputs": [
    {
     "name": "stdout",
     "output_type": "stream",
     "text": [
      "World\n"
     ]
    }
   ],
   "source": [
    "print(variabel_saya[-6:-1])"
   ]
  },
  {
   "cell_type": "code",
   "execution_count": 13,
   "metadata": {},
   "outputs": [
    {
     "name": "stdout",
     "output_type": "stream",
     "text": [
      "W\n"
     ]
    }
   ],
   "source": [
    "print(variabel_saya[-6])"
   ]
  },
  {
   "cell_type": "code",
   "execution_count": 14,
   "metadata": {},
   "outputs": [
    {
     "name": "stdout",
     "output_type": "stream",
     "text": [
      "12\n"
     ]
    }
   ],
   "source": [
    "print(len(variabel_saya))"
   ]
  },
  {
   "cell_type": "code",
   "execution_count": 19,
   "metadata": {},
   "outputs": [
    {
     "name": "stdout",
     "output_type": "stream",
     "text": [
      "Hello World!\n",
      "HelloWorld!\n",
      "Hello World!\n"
     ]
    }
   ],
   "source": [
    "a=\"Hello\"\n",
    "b=\"World!\"\n",
    "print(a+\" \"+b)\n",
    "print(a+b)\n",
    "print(a,b)\n",
    "#kalo pake comma (,) otomatis dikasi spasi"
   ]
  },
  {
   "cell_type": "code",
   "execution_count": 34,
   "metadata": {},
   "outputs": [
    {
     "name": "stdout",
     "output_type": "stream",
     "text": [
      "hallo Heldy pecinta kucing dan tinggal di Batam\n",
      "hallo Heldy, pecinta kucing, dan tinggal di Batam\n",
      "hallo kucing, pecinta Heldy, dan tinggal di Batam\n"
     ]
    }
   ],
   "source": [
    "nama=\"Heldy\"\n",
    "suka=\"kucing\"\n",
    "alamat=\"Batam\"\n",
    "print(\"hallo\",nama,\"pecinta\",suka,\"dan tinggal di\",alamat)\n",
    "print(\"hallo {}, pecinta {}, dan tinggal di {}\".format(nama,suka,alamat))\n",
    "print(\"hallo {1}, pecinta {0}, dan tinggal di {2}\".format(nama,suka,alamat))"
   ]
  },
  {
   "cell_type": "code",
   "execution_count": 35,
   "metadata": {},
   "outputs": [
    {
     "name": "stdout",
     "output_type": "stream",
     "text": [
      "hallo Heldy, pecinta kucing, dan tinggal di Batam\n"
     ]
    }
   ],
   "source": [
    "print(\"hallo {namanya}, pecinta {sukanya}, dan tinggal di {alamatnya}\".format(namanya=nama,sukanya=suka,alamatnya=alamat))"
   ]
  },
  {
   "cell_type": "code",
   "execution_count": 36,
   "metadata": {},
   "outputs": [
    {
     "name": "stdout",
     "output_type": "stream",
     "text": [
      "hallo! Heldy, pecinta kucing dan tinggal di Batam\n"
     ]
    }
   ],
   "source": [
    "print(f\"hallo! {nama}, pecinta {suka} dan tinggal di {alamat}\")"
   ]
  },
  {
   "cell_type": "code",
   "execution_count": null,
   "metadata": {},
   "outputs": [],
   "source": []
  }
 ],
 "metadata": {
  "kernelspec": {
   "display_name": "Python 3",
   "language": "python",
   "name": "python3"
  },
  "language_info": {
   "codemirror_mode": {
    "name": "ipython",
    "version": 3
   },
   "file_extension": ".py",
   "mimetype": "text/x-python",
   "name": "python",
   "nbconvert_exporter": "python",
   "pygments_lexer": "ipython3",
   "version": "3.7.4"
  }
 },
 "nbformat": 4,
 "nbformat_minor": 2
}
