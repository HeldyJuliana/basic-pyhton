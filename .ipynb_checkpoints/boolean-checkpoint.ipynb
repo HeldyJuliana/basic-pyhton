{
 "cells": [
  {
   "cell_type": "code",
   "execution_count": 1,
   "metadata": {},
   "outputs": [
    {
     "name": "stdout",
     "output_type": "stream",
     "text": [
      "False\n"
     ]
    }
   ],
   "source": [
    "a=9\n",
    "print(a==10)"
   ]
  },
  {
   "cell_type": "code",
   "execution_count": 4,
   "metadata": {},
   "outputs": [
    {
     "name": "stdout",
     "output_type": "stream",
     "text": [
      "Angka A lebih kecil dari B\n"
     ]
    }
   ],
   "source": [
    "b=10\n",
    "if a>b:\n",
    "    print(\"Angka A lebih besar dari B\")\n",
    "elif b>a:\n",
    "    print(\"Angka A lebih kecil dari B\")"
   ]
  },
  {
   "cell_type": "code",
   "execution_count": 7,
   "metadata": {},
   "outputs": [
    {
     "name": "stdout",
     "output_type": "stream",
     "text": [
      "Angka C dan D sama\n"
     ]
    }
   ],
   "source": [
    "c=10\n",
    "d=10\n",
    "if c>d:\n",
    "    print(\"Angka C lebih besar dari D\")\n",
    "elif d>c:\n",
    "    print(\"Angka C lebih kecil dari D\")\n",
    "else:\n",
    "    print(\"Angka C dan D sama\")"
   ]
  },
  {
   "cell_type": "code",
   "execution_count": 11,
   "metadata": {},
   "outputs": [
    {
     "name": "stdout",
     "output_type": "stream",
     "text": [
      "access ok\n"
     ]
    }
   ],
   "source": [
    "nama==\"Heldy\"\n",
    "password==\"123\"\n",
    "if nama==\"Heldy\" and password==\"123\":\n",
    "    print(\"access ok\")\n",
    "else:\n",
    "    print(\"access denied\")"
   ]
  },
  {
   "cell_type": "code",
   "execution_count": 12,
   "metadata": {},
   "outputs": [
    {
     "name": "stdout",
     "output_type": "stream",
     "text": [
      "access denied\n"
     ]
    }
   ],
   "source": [
    "if nama==\"Deedee\" and password==\"123\":\n",
    "    print(\"access ok\")\n",
    "else:\n",
    "    print(\"access denied\")"
   ]
  },
  {
   "cell_type": "code",
   "execution_count": 13,
   "metadata": {},
   "outputs": [
    {
     "name": "stdout",
     "output_type": "stream",
     "text": [
      "access ok\n"
     ]
    }
   ],
   "source": [
    "if nama==\"Deedee\" or password==\"123\":\n",
    "    print(\"access ok\")\n",
    "else:\n",
    "    print(\"access denied\")"
   ]
  },
  {
   "cell_type": "code",
   "execution_count": 14,
   "metadata": {},
   "outputs": [],
   "source": [
    "#LOGIC GATE\n",
    "#fungsi not pake !\n",
    "#fungsi or pake |\n",
    "#fungsi and pake &\n",
    "#fungsi is pake ="
   ]
  },
  {
   "cell_type": "code",
   "execution_count": 19,
   "metadata": {},
   "outputs": [
    {
     "name": "stdout",
     "output_type": "stream",
     "text": [
      "access ok\n"
     ]
    }
   ],
   "source": [
    "if nama!=\"Deedee\" and password==\"123\":\n",
    "    print(\"access ok\")\n",
    "else:\n",
    "    print(\"access denied\")"
   ]
  },
  {
   "cell_type": "code",
   "execution_count": null,
   "metadata": {},
   "outputs": [],
   "source": []
  },
  {
   "cell_type": "code",
   "execution_count": null,
   "metadata": {},
   "outputs": [],
   "source": []
  }
 ],
 "metadata": {
  "kernelspec": {
   "display_name": "Python 3",
   "language": "python",
   "name": "python3"
  },
  "language_info": {
   "codemirror_mode": {
    "name": "ipython",
    "version": 3
   },
   "file_extension": ".py",
   "mimetype": "text/x-python",
   "name": "python",
   "nbconvert_exporter": "python",
   "pygments_lexer": "ipython3",
   "version": "3.7.4"
  }
 },
 "nbformat": 4,
 "nbformat_minor": 2
}
