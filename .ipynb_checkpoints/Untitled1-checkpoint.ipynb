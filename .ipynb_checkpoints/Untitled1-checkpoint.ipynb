{
 "cells": [
  {
   "cell_type": "code",
   "execution_count": 1,
   "metadata": {},
   "outputs": [
    {
     "name": "stdout",
     "output_type": "stream",
     "text": [
      "['Sabun', 'Sapu', 'Sendok', 'Garpu', 'Pel']\n"
     ]
    }
   ],
   "source": [
    "daftar_belanja=[\"Sabun\", \"Sapu\", \"Sendok\", \"Garpu\"]\n",
    "daftar_belanja.append(\"Pel\")\n",
    "#fungsi append nambah data\n",
    "print(daftar_belanja)"
   ]
  },
  {
   "cell_type": "code",
   "execution_count": 6,
   "metadata": {},
   "outputs": [
    {
     "name": "stdout",
     "output_type": "stream",
     "text": [
      "u\n",
      "p\n"
     ]
    }
   ],
   "source": [
    "print(daftar_belanja[0][3])\n",
    "#ambil kata ke 0, yaitu sabun, trs ambil char ke 3, yaitu u\n",
    "print(daftar_belanja[1][2])\n",
    "#ambil kata ke 0, yaitu sapu, trs ambil char ke 2, yaitu p"
   ]
  },
  {
   "cell_type": "code",
   "execution_count": 3,
   "metadata": {},
   "outputs": [
    {
     "name": "stdout",
     "output_type": "stream",
     "text": [
      "['Sabun', 'Sapu', 'Sendok']\n"
     ]
    }
   ],
   "source": [
    "print(daftar_belanja[0:3])"
   ]
  },
  {
   "cell_type": "code",
   "execution_count": 7,
   "metadata": {},
   "outputs": [
    {
     "name": "stdout",
     "output_type": "stream",
     "text": [
      "['Sapu', 'Sabun', 'Sendok', 'Garpu', 'Pel']\n"
     ]
    }
   ],
   "source": [
    "daftar_belanja[0],daftar_belanja[1]=daftar_belanja[1],daftar_belanja[0]\n",
    "print(daftar_belanja)"
   ]
  },
  {
   "cell_type": "code",
   "execution_count": 20,
   "metadata": {},
   "outputs": [
    {
     "name": "stdout",
     "output_type": "stream",
     "text": [
      "['Sapu', 'Sabun', 'Sendok', 'Garpu', 'Pel', 'Kemoceng', 'Kemoceng', 'Kemoceng', 'Kemoceng', 'Kemoceng', 'Kemoceng', 'Kemoceng', 'Kemoceng', 'lap', 'lap']\n"
     ]
    }
   ],
   "source": [
    "daftar_belanja.append(\"lap\")\n",
    "daftar_belanja_backup=daftar_belanja.copy()\n",
    "print(daftar_belanja_backup)"
   ]
  },
  {
   "cell_type": "code",
   "execution_count": null,
   "metadata": {},
   "outputs": [],
   "source": []
  },
  {
   "cell_type": "code",
   "execution_count": null,
   "metadata": {},
   "outputs": [],
   "source": []
  }
 ],
 "metadata": {
  "kernelspec": {
   "display_name": "Python 3",
   "language": "python",
   "name": "python3"
  },
  "language_info": {
   "codemirror_mode": {
    "name": "ipython",
    "version": 3
   },
   "file_extension": ".py",
   "mimetype": "text/x-python",
   "name": "python",
   "nbconvert_exporter": "python",
   "pygments_lexer": "ipython3",
   "version": "3.7.4"
  }
 },
 "nbformat": 4,
 "nbformat_minor": 2
}
